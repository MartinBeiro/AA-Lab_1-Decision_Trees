{
 "cells": [
  {
   "cell_type": "markdown",
   "id": "ba9ff418",
   "metadata": {},
   "source": [
    "# Entrega 1 - Árboles de Decisión\n",
    "\n",
    "## Grupo 39\n",
    "- M. Beiro C.I.:\n",
    "- J. Rodríguez C.I.: 4.328.718-6\n"
   ]
  },
  {
   "cell_type": "markdown",
   "id": "8efa2070",
   "metadata": {},
   "source": [
    "## 1. Objetivo\n",
    "\n",
    "El objetivo de esta tarea es implementar el algoritmo de árboles de decisión también conocido como ID3.\n",
    "\n",
    "Se pretende escribir el código que genere un arbol de decisión para determinado set de datos y luego poder compararlo con los algoritmos *DecisionTreeClassifier* y *RandomForestClassifier* de la librería *scikit-learn*."
   ]
  },
  {
   "cell_type": "markdown",
   "id": "0ae13a00",
   "metadata": {},
   "source": [
    "## 2. Diseño\n",
    "\n",
    "### 2.1 Preprocesamiento de los datos\n",
    "\n",
    "La base de datos usada es extraída del siguiente link:\n",
    "https://archive.ics.uci.edu/dataset/697/predict+students+dropout+and+academic+success\n",
    "\n",
    "En dicho link se encuentra la documentación en donde se puede apreciar que los datos pueden ser enteros, continuos o categóricos.\n",
    "En la descripción de cada atributo podemos ver que hay algunos cuyos valores enteros tienen una correspondencia con ciertas categorías, por lo que se entiende que indirectamente son categóricos a pesar de que su tipo es entero.\n",
    "\n",
    "Para los datos de tipo coninuo de deberá discretizar los valores.\n",
    "Antes de aplicar la discritización se visaliza la cantidad de valores diferentes por columna para ver como son los datos.\n",
    "A continuación se muestran las columnas con mas de 50 datos.\n",
    "\n",
    "\n",
    "\n"
   ]
  },
  {
   "cell_type": "code",
   "execution_count": null,
   "id": "259ceed8",
   "metadata": {},
   "outputs": [],
   "source": [
    "import pandas as pd\n",
    "\n",
    "path = 'data/data.csv'\n",
    "df_data = pd.read_csv(path, sep=';')\n",
    "\n",
    "df_cantidad_datos = df_data.nunique()\n",
    "df_cantidad_datos[df_cantidad_datos>50]"
   ]
  },
  {
   "cell_type": "markdown",
   "id": "f89caf17",
   "metadata": {},
   "source": [
    "El resultado muestra que las columnas *Curricular units 1st sem (grade)* y *Curricular units 2nd sem (grade)* tienen más de 700 datos diferentes, mientras que la documentación indica que se trata de datos enteros entre 0 y 20. Observando los valores de los datos se puede ver que presentan valores decimales, por lo que para estas columnas el tratamiento que se realizará será de redondar las cifras al entero más cercano.\n",
    "\n",
    "En conclusión se realizarán dos tipo de procesmaientos:\n",
    "1. Redondeo para datos incorrectos según su documentación.\n",
    "2. Discretización para datos continuos.\n",
    "\n",
    "Para ello se implementa el código en el archivo *preporcesamioento.py*, el cual necesita de un archivo de configuración que indique a qué columna se le aplica un determinado procesamiento.\n",
    "A modo de ejemplo se expone en una tabla ese archivo.\n",
    "\n",
    "|            columna               | algoritmo| bins |\n",
    "|:---------------------------------|----------|------|\n",
    "| Previous qualification (grade)   | bins     | 20   |\n",
    "| Admission grade                  | bins     | 20   |\n",
    "| Curricular units 1st sem (grade) | redondeo | -    |\n",
    "| Curricular units 2nd sem (grade) | redondeo | -    |\n",
    "| Unemployment rate                | bins     | 10   |\n",
    "| Inflation rate                   | bins     | 10   |\n",
    "| GDP                              | bins     | 10   |\n",
    "\n"
   ]
  },
  {
   "cell_type": "markdown",
   "id": "2b4f9dba",
   "metadata": {},
   "source": [
    "### 2.2 Algoritmo"
   ]
  },
  {
   "cell_type": "markdown",
   "id": "5147cc2f",
   "metadata": {},
   "source": [
    "### 2.3 Evaluación"
   ]
  },
  {
   "cell_type": "code",
   "execution_count": null,
   "id": "be982912",
   "metadata": {},
   "outputs": [],
   "source": []
  }
 ],
 "metadata": {
  "kernelspec": {
   "display_name": "Python 3 (ipykernel)",
   "language": "python",
   "name": "python3"
  },
  "language_info": {
   "codemirror_mode": {
    "name": "ipython",
    "version": 3
   },
   "file_extension": ".py",
   "mimetype": "text/x-python",
   "name": "python",
   "nbconvert_exporter": "python",
   "pygments_lexer": "ipython3",
   "version": "3.11.4"
  }
 },
 "nbformat": 4,
 "nbformat_minor": 5
}
